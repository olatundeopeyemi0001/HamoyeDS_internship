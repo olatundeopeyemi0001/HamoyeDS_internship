{
  "nbformat": 4,
  "nbformat_minor": 0,
  "metadata": {
    "colab": {
      "name": "OLATUNDE_STAGE2.ipynb",
      "provenance": [],
      "collapsed_sections": [],
      "authorship_tag": "ABX9TyNq825tF2BImg1zHLZAaWGj",
      "include_colab_link": true
    },
    "kernelspec": {
      "name": "python3",
      "display_name": "Python 3"
    }
  },
  "cells": [
    {
      "cell_type": "markdown",
      "metadata": {
        "id": "view-in-github",
        "colab_type": "text"
      },
      "source": [
        "<a href=\"https://colab.research.google.com/github/olatundeopeyemi0001/HamoyeDS_internship/blob/master/OLATUNDE_STAGE2.ipynb\" target=\"_parent\"><img src=\"https://colab.research.google.com/assets/colab-badge.svg\" alt=\"Open In Colab\"/></a>"
      ]
    },
    {
      "cell_type": "code",
      "metadata": {
        "id": "oI8hwdEEZP3s",
        "colab_type": "code",
        "colab": {}
      },
      "source": [
        "import tensorflow as tf\n",
        "import numpy as np\n",
        "from tensorflow import keras\n",
        "import pandas as pd\n",
        "import seaborn as sns\n",
        "import matplotlib.pyplot as plt\n",
        "from scipy import stats\n",
        "%matplotlib inline"
      ],
      "execution_count": 24,
      "outputs": []
    },
    {
      "cell_type": "code",
      "metadata": {
        "id": "_bNK8V-DmifK",
        "colab_type": "code",
        "colab": {}
      },
      "source": [
        "#importing Url link to read dataset into dataframe\n",
        "prodDataset = pd.read_csv('https://www.wolframcloud.com/obj/mar/Hamoye/Session%202/Data/Africa%20Food%20Production%20(2004%20-%202013).csv')"
      ],
      "execution_count": 27,
      "outputs": []
    },
    {
      "cell_type": "code",
      "metadata": {
        "id": "rYUtUi-Cvlt3",
        "colab_type": "code",
        "colab": {
          "base_uri": "https://localhost:8080/",
          "height": 265
        },
        "outputId": "bc91ff68-167a-4802-c9ca-b32ae59a213e"
      },
      "source": [
        "prodDataset.head"
      ],
      "execution_count": null,
      "outputs": [
        {
          "output_type": "execute_result",
          "data": {
            "text/plain": [
              "<bound method NDFrame.head of         Country                Item  Year  Value\n",
              "0       Algeria  Wheat and products  2004   2731\n",
              "1       Algeria  Wheat and products  2005   2415\n",
              "2       Algeria  Wheat and products  2006   2688\n",
              "3       Algeria  Wheat and products  2007   2319\n",
              "4       Algeria  Wheat and products  2008   1111\n",
              "...         ...                 ...   ...    ...\n",
              "23105  Zimbabwe         Crustaceans  2009      0\n",
              "23106  Zimbabwe         Crustaceans  2010      0\n",
              "23107  Zimbabwe         Crustaceans  2011      0\n",
              "23108  Zimbabwe         Crustaceans  2012      0\n",
              "23109  Zimbabwe         Crustaceans  2013      0\n",
              "\n",
              "[23110 rows x 4 columns]>"
            ]
          },
          "metadata": {
            "tags": []
          },
          "execution_count": 7
        }
      ]
    },
    {
      "cell_type": "code",
      "metadata": {
        "id": "rTpV4EB9xiS2",
        "colab_type": "code",
        "colab": {
          "base_uri": "https://localhost:8080/",
          "height": 34
        },
        "outputId": "e9f7985b-eb47-465d-f6d1-e6fc6e32fd6d"
      },
      "source": [
        "prodDataset.size"
      ],
      "execution_count": null,
      "outputs": [
        {
          "output_type": "execute_result",
          "data": {
            "text/plain": [
              "92440"
            ]
          },
          "metadata": {
            "tags": []
          },
          "execution_count": 8
        }
      ]
    },
    {
      "cell_type": "code",
      "metadata": {
        "id": "XaZ0kLpZxm3w",
        "colab_type": "code",
        "colab": {
          "base_uri": "https://localhost:8080/",
          "height": 34
        },
        "outputId": "5a6a3c8f-dd93-4edb-e632-c8c918d58de9"
      },
      "source": [
        "prodDataset.shape"
      ],
      "execution_count": null,
      "outputs": [
        {
          "output_type": "execute_result",
          "data": {
            "text/plain": [
              "(23110, 4)"
            ]
          },
          "metadata": {
            "tags": []
          },
          "execution_count": 9
        }
      ]
    },
    {
      "cell_type": "code",
      "metadata": {
        "id": "yX2hShKoxpp2",
        "colab_type": "code",
        "colab": {
          "base_uri": "https://localhost:8080/",
          "height": 212
        },
        "outputId": "e1b4abf9-fe11-4a20-ce73-cefbeb99ce08"
      },
      "source": [
        "prodDataset.info()"
      ],
      "execution_count": 39,
      "outputs": [
        {
          "output_type": "stream",
          "text": [
            "<class 'pandas.core.frame.DataFrame'>\n",
            "RangeIndex: 23110 entries, 0 to 23109\n",
            "Data columns (total 4 columns):\n",
            " #   Column   Non-Null Count  Dtype \n",
            "---  ------   --------------  ----- \n",
            " 0   Country  23110 non-null  object\n",
            " 1   Item     23110 non-null  object\n",
            " 2   Year     23110 non-null  int64 \n",
            " 3   Value    23110 non-null  int64 \n",
            "dtypes: int64(2), object(2)\n",
            "memory usage: 722.3+ KB\n"
          ],
          "name": "stdout"
        }
      ]
    },
    {
      "cell_type": "code",
      "metadata": {
        "id": "1JmB2570x8wL",
        "colab_type": "code",
        "colab": {
          "base_uri": "https://localhost:8080/",
          "height": 287
        },
        "outputId": "ac222aa5-619d-4083-9bb9-234ef3dd580f"
      },
      "source": [
        "prodDataset.describe()"
      ],
      "execution_count": 38,
      "outputs": [
        {
          "output_type": "execute_result",
          "data": {
            "text/html": [
              "<div>\n",
              "<style scoped>\n",
              "    .dataframe tbody tr th:only-of-type {\n",
              "        vertical-align: middle;\n",
              "    }\n",
              "\n",
              "    .dataframe tbody tr th {\n",
              "        vertical-align: top;\n",
              "    }\n",
              "\n",
              "    .dataframe thead th {\n",
              "        text-align: right;\n",
              "    }\n",
              "</style>\n",
              "<table border=\"1\" class=\"dataframe\">\n",
              "  <thead>\n",
              "    <tr style=\"text-align: right;\">\n",
              "      <th></th>\n",
              "      <th>Year</th>\n",
              "      <th>Value</th>\n",
              "    </tr>\n",
              "  </thead>\n",
              "  <tbody>\n",
              "    <tr>\n",
              "      <th>count</th>\n",
              "      <td>23110.000000</td>\n",
              "      <td>23110.000000</td>\n",
              "    </tr>\n",
              "    <tr>\n",
              "      <th>mean</th>\n",
              "      <td>2008.498269</td>\n",
              "      <td>327.785201</td>\n",
              "    </tr>\n",
              "    <tr>\n",
              "      <th>std</th>\n",
              "      <td>2.871740</td>\n",
              "      <td>1607.940343</td>\n",
              "    </tr>\n",
              "    <tr>\n",
              "      <th>min</th>\n",
              "      <td>2004.000000</td>\n",
              "      <td>0.000000</td>\n",
              "    </tr>\n",
              "    <tr>\n",
              "      <th>25%</th>\n",
              "      <td>2006.000000</td>\n",
              "      <td>3.000000</td>\n",
              "    </tr>\n",
              "    <tr>\n",
              "      <th>50%</th>\n",
              "      <td>2008.000000</td>\n",
              "      <td>18.000000</td>\n",
              "    </tr>\n",
              "    <tr>\n",
              "      <th>75%</th>\n",
              "      <td>2011.000000</td>\n",
              "      <td>108.000000</td>\n",
              "    </tr>\n",
              "    <tr>\n",
              "      <th>max</th>\n",
              "      <td>2013.000000</td>\n",
              "      <td>54000.000000</td>\n",
              "    </tr>\n",
              "  </tbody>\n",
              "</table>\n",
              "</div>"
            ],
            "text/plain": [
              "               Year         Value\n",
              "count  23110.000000  23110.000000\n",
              "mean    2008.498269    327.785201\n",
              "std        2.871740   1607.940343\n",
              "min     2004.000000      0.000000\n",
              "25%     2006.000000      3.000000\n",
              "50%     2008.000000     18.000000\n",
              "75%     2011.000000    108.000000\n",
              "max     2013.000000  54000.000000"
            ]
          },
          "metadata": {
            "tags": []
          },
          "execution_count": 38
        }
      ]
    },
    {
      "cell_type": "code",
      "metadata": {
        "id": "86NSjGB8w85D",
        "colab_type": "code",
        "colab": {}
      },
      "source": [
        "#clear [toKoliton, toDateObj]\n",
        "add kiloton to every value\n",
        "\n",
        "#toKiloton[v_]:=Quantity[v, 'MetricKilotons']\n",
        "to convert every year to a dateobject\n",
        "\n",
        "#toDateObj [y_]:=DateObject[{y}]"
      ],
      "execution_count": null,
      "outputs": []
    },
    {
      "cell_type": "markdown",
      "metadata": {
        "id": "Zd2EzNyq08yz",
        "colab_type": "text"
      },
      "source": [
        ""
      ]
    },
    {
      "cell_type": "markdown",
      "metadata": {
        "id": "YXWELMDz03Bf",
        "colab_type": "text"
      },
      "source": [
        ""
      ]
    },
    {
      "cell_type": "code",
      "metadata": {
        "id": "G4HlEdqL01QC",
        "colab_type": "code",
        "colab": {}
      },
      "source": [
        "#prodDataset = once[prodDataset[;; , {\"year\" -> toDateObj, \"value\" -> toKiloton}]]"
      ],
      "execution_count": null,
      "outputs": []
    },
    {
      "cell_type": "code",
      "metadata": {
        "id": "0KZfhQj13XJ_",
        "colab_type": "code",
        "colab": {}
      },
      "source": [
        "#group all entries by country , year and item\n",
        "#prodDatasetGrouped = \n",
        " #( \n",
        "  #  (\n",
        "   #     (\n",
        "    #        prodDataset[Groupby[\"country\"]]\n",
        "     #   )[;; , Groupby[\"year\"]]\n",
        "    #)[;; , ;; , Groupby[\"item\"]]\n",
        "#)[;; , ;; , ;; , ;; , {4}] "
      ],
      "execution_count": null,
      "outputs": []
    },
    {
      "cell_type": "code",
      "metadata": {
        "id": "eEl2fxtj590F",
        "colab_type": "code",
        "colab": {
          "base_uri": "https://localhost:8080/",
          "height": 105
        },
        "outputId": "e1d13093-cb19-4223-daf5-94acd1983c55"
      },
      "source": [
        "#DESCRIBING MY DATA BY EACH COLUMN\n",
        "prodDataset[\"Country\"].describe()"
      ],
      "execution_count": 32,
      "outputs": [
        {
          "output_type": "execute_result",
          "data": {
            "text/plain": [
              "count                           23110\n",
              "unique                             45\n",
              "top       United Republic of Tanzania\n",
              "freq                              790\n",
              "Name: Country, dtype: object"
            ]
          },
          "metadata": {
            "tags": []
          },
          "execution_count": 32
        }
      ]
    },
    {
      "cell_type": "code",
      "metadata": {
        "id": "BBDdrNrD6Xa1",
        "colab_type": "code",
        "colab": {
          "base_uri": "https://localhost:8080/",
          "height": 105
        },
        "outputId": "d3cc57c7-8973-4792-a5a5-153fea469ec7"
      },
      "source": [
        "prodDataset[\"Item\"].describe()"
      ],
      "execution_count": 33,
      "outputs": [
        {
          "output_type": "execute_result",
          "data": {
            "text/plain": [
              "count                 23110\n",
              "unique                   94\n",
              "top       Vegetables, Other\n",
              "freq                    450\n",
              "Name: Item, dtype: object"
            ]
          },
          "metadata": {
            "tags": []
          },
          "execution_count": 33
        }
      ]
    },
    {
      "cell_type": "code",
      "metadata": {
        "id": "9vPY019w-Hd7",
        "colab_type": "code",
        "colab": {
          "base_uri": "https://localhost:8080/",
          "height": 176
        },
        "outputId": "1104cc49-de3c-4cbd-b4cc-5b868277b465"
      },
      "source": [
        "prodDataset[\"Year\"].describe()"
      ],
      "execution_count": 36,
      "outputs": [
        {
          "output_type": "execute_result",
          "data": {
            "text/plain": [
              "count    23110.000000\n",
              "mean      2008.498269\n",
              "std          2.871740\n",
              "min       2004.000000\n",
              "25%       2006.000000\n",
              "50%       2008.000000\n",
              "75%       2011.000000\n",
              "max       2013.000000\n",
              "Name: Year, dtype: float64"
            ]
          },
          "metadata": {
            "tags": []
          },
          "execution_count": 36
        }
      ]
    },
    {
      "cell_type": "code",
      "metadata": {
        "id": "zf8zq940-K-8",
        "colab_type": "code",
        "colab": {
          "base_uri": "https://localhost:8080/",
          "height": 176
        },
        "outputId": "df4827ef-ff29-4068-98b4-54576f9a3d46"
      },
      "source": [
        "prodDataset[\"Value\"].describe()"
      ],
      "execution_count": 37,
      "outputs": [
        {
          "output_type": "execute_result",
          "data": {
            "text/plain": [
              "count    23110.000000\n",
              "mean       327.785201\n",
              "std       1607.940343\n",
              "min          0.000000\n",
              "25%          3.000000\n",
              "50%         18.000000\n",
              "75%        108.000000\n",
              "max      54000.000000\n",
              "Name: Value, dtype: float64"
            ]
          },
          "metadata": {
            "tags": []
          },
          "execution_count": 37
        }
      ]
    },
    {
      "cell_type": "code",
      "metadata": {
        "id": "1-rCaaJL-iKc",
        "colab_type": "code",
        "colab": {
          "base_uri": "https://localhost:8080/",
          "height": 34
        },
        "outputId": "e471b301-c7c7-4715-eb7c-fec45107e0ed"
      },
      "source": [
        "prodDataset[\"Value\"].mean()"
      ],
      "execution_count": 40,
      "outputs": [
        {
          "output_type": "execute_result",
          "data": {
            "text/plain": [
              "327.7852012115967"
            ]
          },
          "metadata": {
            "tags": []
          },
          "execution_count": 40
        }
      ]
    },
    {
      "cell_type": "code",
      "metadata": {
        "id": "Y0UIBGVBHdYr",
        "colab_type": "code",
        "colab": {
          "base_uri": "https://localhost:8080/",
          "height": 34
        },
        "outputId": "744a1434-44fc-492d-fe0e-bd9989c06f6c"
      },
      "source": [
        "prodDataset[\"Value\"].median()"
      ],
      "execution_count": 41,
      "outputs": [
        {
          "output_type": "execute_result",
          "data": {
            "text/plain": [
              "18.0"
            ]
          },
          "metadata": {
            "tags": []
          },
          "execution_count": 41
        }
      ]
    },
    {
      "cell_type": "code",
      "metadata": {
        "id": "H4iyE32bHgk0",
        "colab_type": "code",
        "colab": {
          "base_uri": "https://localhost:8080/",
          "height": 392
        },
        "outputId": "cbf87b30-a3e9-4b77-edc8-a2781aa5c3ad"
      },
      "source": [
        "#creating a boxplot of the column(VALUE)\n",
        "prodDataset[\"Value\"].plot(kind='box', vert=False, figsize=(14,6))"
      ],
      "execution_count": 42,
      "outputs": [
        {
          "output_type": "execute_result",
          "data": {
            "text/plain": [
              "<matplotlib.axes._subplots.AxesSubplot at 0x7ff63bddbd30>"
            ]
          },
          "metadata": {
            "tags": []
          },
          "execution_count": 42
        },
        {
          "output_type": "display_data",
          "data": {
            "image/png": "[encoded data removed]",
            "text/plain": [
              "<Figure size 1008x432 with 1 Axes>"
            ]
          },
          "metadata": {
            "tags": [],
            "needs_background": "light"
          }
        }
      ]
    },
    {
      "cell_type": "code",
      "metadata": {
        "id": "mWtNPVJrIVAl",
        "colab_type": "code",
        "colab": {}
      },
      "source": [
        ""
      ],
      "execution_count": null,
      "outputs": []
    }
  ]
}